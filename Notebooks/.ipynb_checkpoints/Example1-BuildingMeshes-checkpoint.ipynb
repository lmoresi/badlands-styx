{
 "cells": [
  {
   "cell_type": "markdown",
   "metadata": {},
   "source": [
    "# Using the badlands tools\n",
    "\n",
    "This example shows you how to build a circular mesh, triangulate it and add surface process features\n",
    "\n"
   ]
  },
  {
   "cell_type": "code",
   "execution_count": 1,
   "metadata": {
    "collapsed": false
   },
   "outputs": [],
   "source": [
    "%matplotlib inline\n",
    "\n",
    "from badlands import meshtools \n",
    "from badlands import TreMesh\n",
    "from badlands import HeightMesh\n",
    "from badlands import SurfaceProcessMesh\n",
    "\n",
    "import numpy as np\n"
   ]
  },
  {
   "cell_type": "code",
   "execution_count": 3,
   "metadata": {
    "collapsed": false
   },
   "outputs": [
    {
     "data": {
      "text/plain": [
       "<matplotlib.collections.PathCollection at 0x10b719310>"
      ]
     },
     "execution_count": 3,
     "metadata": {},
     "output_type": "execute_result"
    },
    {
     "name": "stderr",
     "output_type": "stream",
     "text": [
      "/usr/local/lib/python2.7/site-packages/matplotlib/collections.py:590: FutureWarning: elementwise comparison failed; returning scalar instead, but in the future will perform elementwise comparison\n",
      "  if self._edgecolors == str('face'):\n"
     ]
    },
    {
     "data": {
      "image/png": "[encoded data removed]",
      "text/plain": [
       "<matplotlib.figure.Figure at 0x10b37c710>"
      ]
     },
     "metadata": {},
     "output_type": "display_data"
    }
   ],
   "source": [
    "# A quick test mesh a small collection of points and how to build an \"improved\" mesh from those points\n",
    "\n",
    "\n",
    "import matplotlib.pyplot as plt\n",
    "from matplotlib import cm\n",
    "\n",
    "x1 = np.array((0, 0, 1, 1, 0.5, 0.55, 0.25, 0.75 ))\n",
    "y1 = np.array((0, 1, 0, 1, 0.5, 0.50, 0.75, 0.25 ))\n",
    "bmask = np.array(( False, False, False, False, True, True, True, True))\n",
    "\n",
    "phi = np.array((1, 2, 3, 4, 5, 3, 3, 2))\n",
    "\n",
    "x5,y5 = meshtools.lloyd_mesh_improvment(x1,y1, bmask, 5)\n",
    "\n",
    "mesh1  = TreMesh(x1,y1,bmask)\n",
    "smesh5 = SurfaceProcessMesh(x5, y5, phi, phi, None, None, bmask, verbose=False)\n",
    "\n",
    "# This is the preferred plotting strategy since it exposes the matplotlib instances\n",
    "# that you need to use the plotting functions provided by TriMesh et al.\n",
    "\n",
    "fig, (plot1, plot2) = plt.subplots(1,2)\n",
    "fig.set_size_inches(10,5)\n",
    "fig.set_dpi(300)\n",
    "\n",
    "plot1.set_xlim(0.0,1.0)\n",
    "plot1.set_ylim(0.0,1.0)\n",
    "mesh1.add_node_data_to_plot(plot1,phi, cmap=cm.terrain, shading=\"flat\", vmin=-0.5, alpha=0.5)\n",
    "\n",
    "plot1.scatter(x1,y1,marker=\"o\")\n",
    "\n",
    "plot2.set_xlim(0.0,1.0)\n",
    "plot2.set_ylim(0.0,1.0)\n",
    "smesh5.add_node_data_to_plot(plot2,phi, cmap=cm.terrain, shading=\"flat\", vmin=-0.5, alpha=0.5)\n",
    "plot2.scatter(x5,y5,marker=\"o\")\n",
    "\n"
   ]
  },
  {
   "cell_type": "code",
   "execution_count": 4,
   "metadata": {
    "collapsed": false
   },
   "outputs": [
    {
     "name": "stdout",
     "output_type": "stream",
     "text": [
      "Help on instance of SurfaceProcessMesh in module badlands.surfmesh.surfaceMesh:\n",
      "\n",
      "class SurfaceProcessMesh(badlands.surfmesh.heightMesh.HeightMesh)\n",
      " |  Builds a TriMesh/HeightMesh (2D) object and adds a height field and data structures / operators\n",
      " |  to propagate information across the surface (e.g. flow downhill)\n",
      " |  \n",
      " |  Method resolution order:\n",
      " |      SurfaceProcessMesh\n",
      " |      badlands.surfmesh.heightMesh.HeightMesh\n",
      " |      badlands.tremesh.treMesh.TreMesh\n",
      " |  \n",
      " |  Methods defined here:\n",
      " |  \n",
      " |  __init__(self, points_x=None, points_y=None, height=None, rainfall_pattern=None, sediment=None, uplift=None, boundary_mask=None, verbose=None, filename=None)\n",
      " |      Initialise the Delaunay mesh (parent) and build height data structures\n",
      " |  \n",
      " |  calc_distance_to_outflow_along_chains(self)\n",
      " |      Build an array (self.node_downstream_distance) that is the \n",
      " |      along-stream distance for any given node to the eventual outflow.\n",
      " |  \n",
      " |  calc_upstream_area_along_chains(self)\n",
      " |      Build an array (self.node_upstream_area) that is the contributing area of\n",
      " |      all the upstream nodes to the one in question.\n",
      " |  \n",
      " |  dump_to_file(self, filename, **kwargs)\n",
      " |      Save SurfaceProcessMesh data to a file - stores x, y, bmask, height, rainfall, sediment\n",
      " |      and triangulation information sufficient to \n",
      " |      retrieve, plot and rebuild the mesh. Saves any given data as well.\n",
      " |  \n",
      " |  handle_low_points(self, base, its, verbose=False)\n",
      " |      If the mesh has local minima and only erosion is active then it is necessary\n",
      " |      to do something about these local low points. Here what we do is to fill back \n",
      " |      upstream from the next-lowest height.\n",
      " |      \n",
      " |      The approach in this subroutine is independent of the available sediment so it\n",
      " |      does not properly conserve mass so you have to do something about this yourself !\n",
      " |  \n",
      " |  identify_catchments_from_chains(self)\n",
      " |      Define the catchment to which any given node belongs and store as\n",
      " |      self.node_catchments. Build a list of all the catchments found \n",
      " |      and store the backbone chain to identify them.\n",
      " |      Note: Catchment 0 is reserved for all those nodes which are at the base level\n",
      " |  \n",
      " |  identify_flat_spots(self)\n",
      " |  \n",
      " |  identify_high_points(self)\n",
      " |      Identify if the mesh has (internal) local minima and return an array of node indices\n",
      " |  \n",
      " |  identify_low_points(self)\n",
      " |      Identify if the mesh has (internal) local minima and return an array of node indices\n",
      " |  \n",
      " |  identify_outflow_points(self)\n",
      " |      Identify the (boundary) outflow points and return an array of node indices\n",
      " |  \n",
      " |  landscape_diffusion_critical_slope(self, kappa, critical_slope, fluxBC)\n",
      " |      Non-linear diffusion to keep slopes at a critical value. Assumes a background\n",
      " |      diffusion rate (can be a vector of length mesh.tri.npoints) and a critical slope value. \n",
      " |      \n",
      " |      This term is suitable for the sloughing of sediment from hillslopes. \n",
      " |      \n",
      " |      To Do: The critical slope should be a function of the material (sediment, basement etc) \n",
      " |      but currently it is not. \n",
      " |      \n",
      " |      To Do: The fluxBC flag is global ... it should apply to the outward normal\n",
      " |      at selected nodes but currently it is set to kill both fluxes at all boundary nodes.\n",
      " |  \n",
      " |  stream_power_erosion_deposition_rate(self, efficiency=0.01, smooth_power=3, smooth_low_points=3, smooth_erosion_rate=3, smooth_deposition_rate=3)\n",
      " |      Function of the SurfaceProcessMesh which computes stream-power erosion and deposition rates \n",
      " |      from a given rainfall pattern (self.rainfall_pattern).\n",
      " |      \n",
      " |      In this model we assume a the carrying capacity of the stream is related to the stream power and so is the\n",
      " |      erosion rate. The two are related to one another in this particular case by a single contant (everywhere on the mesh)\n",
      " |      This does not allow for spatially variable erodability and it does not allow for differences in the dependence\n",
      " |      of erosion / deposition on the stream power. \n",
      " |      \n",
      " |      Deposition occurs such that the upstream-integrated eroded sediment does not exceed the carrying capacity at a given\n",
      " |      point. To conserve mass, we have to treat internal drainage points carefully and, optionally, smooth the deposition \n",
      " |      upstream of the low point. We also have to be careful when stream-power and carrying capacity increase going downstream.\n",
      " |      This produces a negative deposition rate when the flow is at capacity. We suppress this behaviour and balance mass across\n",
      " |      all other deposition sites but this does mean the capacity is not perfectly satisfied everywhere. \n",
      " |      \n",
      " |      parameters:\n",
      " |       efficiency=0.01          : erosion rate for a given stream power compared to carrying capacity\n",
      " |       smooth_power=3           : upstream / downstream smoothing of the stream power (number of cycles of smoothing)\n",
      " |       smooth_low_points=10     : upstream smoothing of the deposition at low points (number of cycles of smoothing)\n",
      " |       smooth_erosion_rate=0    : upstream / downstream smoothing of the computed erosion rate (number of cycles of smoothing)\n",
      " |       smooth_deposition_rate=0 : upstream / downstream smoothing of the computed erosion rate (number of cycles of smoothing)\n",
      " |  \n",
      " |  stream_power_erosion_deposition_rate2(self, efficiency=0.01, smooth_power=3, smooth_low_points=2, smooth_erosion_rate=2, smooth_deposition_rate=2, smooth_operator=None, centre_weight_u=0.5, centre_weight=0.5)\n",
      " |      Function of the SurfaceProcessMesh which computes stream-power erosion and deposition rates \n",
      " |      from a given rainfall pattern (self.rainfall_pattern).\n",
      " |      \n",
      " |      In this model we assume a the carrying capacity of the stream is related to the stream power and so is the\n",
      " |      erosion rate. The two are related to one another in this particular case by a single contant (everywhere on the mesh)\n",
      " |      This does not allow for spatially variable erodability and it does not allow for differences in the dependence\n",
      " |      of erosion / deposition on the stream power. \n",
      " |      \n",
      " |      Deposition occurs such that the upstream-integrated eroded sediment does not exceed the carrying capacity at a given\n",
      " |      point. To conserve mass, we have to treat internal drainage points carefully and, optionally, smooth the deposition \n",
      " |      upstream of the low point. We also have to be careful when stream-power and carrying capacity increase going downstream.\n",
      " |      This produces a negative deposition rate when the flow is at capacity. We suppress this behaviour and balance mass across\n",
      " |      all other deposition sites but this does mean the capacity is not perfectly satisfied everywhere. \n",
      " |      \n",
      " |      parameters:\n",
      " |       efficiency=0.01          : erosion rate for a given stream power compared to carrying capacity\n",
      " |       smooth_power=3           : upstream / downstream smoothing of the stream power (number of cycles of smoothing)\n",
      " |       smooth_low_points=3      : upstream smoothing of the deposition at low points (number of cycles of smoothing)\n",
      " |       smooth_erosion_rate=0    : upstream / downstream smoothing of the computed erosion rate (number of cycles of smoothing)\n",
      " |       smooth_deposition_rate=0 : upstream / downstream smoothing of the computed erosion rate (number of cycles of smoothing)\n",
      " |  \n",
      " |  update_surface_processes(self)\n",
      " |  \n",
      " |  ----------------------------------------------------------------------\n",
      " |  Data and other attributes defined here:\n",
      " |  \n",
      " |  name = 'Generic_SurfaceProcess_TriMesh'\n",
      " |  \n",
      " |  ----------------------------------------------------------------------\n",
      " |  Methods inherited from badlands.surfmesh.heightMesh.HeightMesh:\n",
      " |  \n",
      " |  build_cumulative_downhill_matrix(self)\n",
      " |      Build non-sparse, single hit matrices to propagate information downhill \n",
      " |      (self.sweepDownToOutflowMat and self.downhillCumulativeMat)\n",
      " |      \n",
      " |      This may be expensive in terms of storage so this is only done if \n",
      " |      self.storeDense == True and the matrices are also out of date (which they \n",
      " |      will be if the height field is changed)\n",
      " |      \n",
      " |      downhillCumulativeMat = I + D + D**2 + D**3 + ... D**N where N is the length of the graph\n",
      " |  \n",
      " |  build_node_chains(self)\n",
      " |      Builds all the chains for the mesh which flow from high to low and terminate\n",
      " |      when they meet with an existing chain.  \n",
      " |      \n",
      " |      The following data structures become available once this function has been called:\n",
      " |      \n",
      " |          self.node_chain_lookup - tells you the chain in which a given node number lies\n",
      " |          self.node_chain_list   - is a list of the chains of nodes (each of which is an list)\n",
      " |      \n",
      " |      The terminating node of a chain may be the junction with another (pre-exisiting) chain \n",
      " |      and will be a member of that chain. Backbone chains which run from the highest level \n",
      " |      to the base level or the boundary are those whose terminal node is also a member of the same chain.\n",
      " |      \n",
      " |      Nodes which are at a base level given by self.base, are collected separately\n",
      " |      into chain number 0.\n",
      " |  \n",
      " |  cumulative_flow(self, vector)\n",
      " |  \n",
      " |  cumulative_flow1(self, vector)\n",
      " |  \n",
      " |  downhill_smoothing(self, data, its, centre_weight=0.5)\n",
      " |  \n",
      " |  streamwise_smoothing(self, data, its, centre_weight=0.5)\n",
      " |      A smoothing operator that is limited to the uphill / downhill nodes for each point. It's hard to build\n",
      " |      a conservative smoothing operator this way since \"boundaries\" occur at irregular internal points associated\n",
      " |      with watersheds etc. Upstream and downstream smoothing operations bracket the original data (over and under,\n",
      " |      respectively) and we use this to find a smooth field with the same mean value as the original data. This is \n",
      " |      done for each application of the smoothing.\n",
      " |  \n",
      " |  sweep_downhill_with_flow(self, vector)\n",
      " |  \n",
      " |  update_height(self, height)\n",
      " |      If the height field changes a number of things will need to be re-built. This function\n",
      " |      is called with the new height field which it loads onto the mesh and then builds gradients\n",
      " |      and sorts the nodes by height etc etc.\n",
      " |      \n",
      " |      It does not build / re-build the node chains as this is expensive, but it does destroy\n",
      " |      any existing node chains which would no longer be valid. See self.build_node_chains()\n",
      " |  \n",
      " |  uphill_smoothing(self, data, its, centre_weight=0.5)\n",
      " |  \n",
      " |  ----------------------------------------------------------------------\n",
      " |  Methods inherited from badlands.tremesh.treMesh.TreMesh:\n",
      " |  \n",
      " |  add_node_contours_to_plot(self, this_plot_ax, data, *args, **kwargs)\n",
      " |      Adds a tripcolor plot of node data on this mesh to an existing plot (matplotlib axis)\n",
      " |      No error checking - that is handled by matplotlib.\n",
      " |  \n",
      " |  add_node_data_to_plot(self, this_plot_ax, data, shading='gouraud', **kwargs)\n",
      " |      Adds a tripcolor plot of node data on this mesh to an existing plot (matplotlib axis)\n",
      " |      No error checking - that is handled by matplotlib.\n",
      " |  \n",
      " |  assess_derivative_quality(self)\n",
      " |      Load a gaussian function onto the mesh and test the derivatives\n",
      " |      Error = norm2(Numerical - Analytic) / norm2(Analytic)\n",
      " |  \n",
      " |  delaunay_del2(self, PHI)\n",
      " |      Constructs the laplacian (div grad) of of a scalar (PHI) using equivalent to\n",
      " |      self.delaunay_grad() and self.delaunay_div(). Optimised routine using \n",
      " |      sparse matrix gradient operator\n",
      " |  \n",
      " |  delaunay_div(self, PSIx, PSIy)\n",
      " |      Constructs the divergence (div ) of a Vector (PSIx, PSIy) using equivalent to\n",
      " |      self._matrix_delaunay_grad(). Optimised routine using sparse matrix gradient operator\n",
      " |  \n",
      " |  delaunay_grad(self, PHI)\n",
      " |  \n",
      " |  interpolate(self, data, coord, error_value=0.0)\n",
      " |      Interpolates the data array from the points of the triangulation to an arbitrary coord \n",
      " |      within the domain. If the coord is not within the domain then error_value is returned along with\n",
      " |      a False flag.\n",
      " |          \n",
      " |      e.g. value, success = trimesh.interpolate( data_array, (x,y) , 0.0 )\n",
      " |  \n",
      " |  local_area_smoothing(self, data, its=1, centre_weight=0.75)\n",
      " |  \n",
      " |  neighbours(self, centre_point)\n",
      " |      Returns a list of neighbour nodes for a given point in the delaunay triangulation\n",
      "\n"
     ]
    }
   ],
   "source": [
    "# Note that the help text is meaningful\n",
    "help(smesh5)"
   ]
  },
  {
   "cell_type": "code",
   "execution_count": null,
   "metadata": {
    "collapsed": false
   },
   "outputs": [],
   "source": [
    "## TEST - 2 A useful mesh for computation of surface processes. Use the elliptical mesh generator and \n",
    "## iteratively improve the points before building the \n",
    "\n",
    "x1, y1, bmask, inverse_bmask = meshtools.elliptical_mesh(-5.0, 5.0, -5.0,  5.0, 0.05, 0.05, 50000, 125 )\n",
    "z1 = np.exp(-x1**2 -y1**2)\n",
    "\n",
    "x5,y5 = meshtools.lloyd_mesh_improvment(x1,y1, bmask, 5)\n",
    "z5 = np.exp(0.2 * (-x5**2 -y5**2)) + 0.0001 * np.random.rand(len(x5))\n",
    "\n",
    "mesh1 = SurfaceProcessMesh(x1, y1, z1, z1**2, None, bmask, verbose=True)\n",
    "mesh5 = SurfaceProcessMesh(x5, y5, z5, z5**2, None, bmask, verbose=True)\n",
    "\n",
    "print \"Mesh 1 - derivative error: \", mesh1.assess_derivative_quality()\n",
    "print \"Mesh 5 - derivative error: \", mesh5.assess_derivative_quality()"
   ]
  },
  {
   "cell_type": "code",
   "execution_count": null,
   "metadata": {
    "collapsed": false
   },
   "outputs": [],
   "source": [
    "## dump the mesh to a file\n",
    "\n",
    "mesh5.dump_to_file(\"MyNewMesh.npz\")"
   ]
  },
  {
   "cell_type": "code",
   "execution_count": null,
   "metadata": {
    "collapsed": true
   },
   "outputs": [],
   "source": [
    "mesh5_1 = TreMesh(filename=\"MyNewMesh.npz\")"
   ]
  },
  {
   "cell_type": "code",
   "execution_count": null,
   "metadata": {
    "collapsed": false
   },
   "outputs": [],
   "source": [
    "# To see what is in the data file\n",
    "\n",
    "peakAtMeshFile = np.load(\"MyNewMesh.npz\")\n",
    "print \"Available arrays: \", peakAtMeshFile.keys()\n",
    "print \"Rainfall distribution array: \",peakAtMeshFile['rainfall_pattern']"
   ]
  },
  {
   "cell_type": "code",
   "execution_count": null,
   "metadata": {
    "collapsed": false
   },
   "outputs": [],
   "source": [
    "# Here is how to update the relevant parts of the mesh if the height changes\n",
    "\n",
    "mesh5.verbose=True\n",
    "mesh5.storeDense=True\n",
    "mesh5.update_height(z5)\n",
    "mesh5.update_surface_processes()\n",
    "\n",
    "# Update surface processes will reset the stored matrices and rebuild them (if storedDense is True) \n",
    "# Subsequent calls would be faster\n",
    "\n",
    "import time\n",
    "\n",
    "walltime=time.clock()\n",
    "mesh5.cumulative_flow(mesh5.area)\n",
    "print \" - Built cumulative area \", time.clock() - walltime,\"s\"\n"
   ]
  },
  {
   "cell_type": "code",
   "execution_count": null,
   "metadata": {
    "collapsed": false
   },
   "outputs": [],
   "source": [
    "# Here is how to update the relevant parts of the mesh if the height changes\n",
    "\n",
    "mesh5.verbose=True\n",
    "mesh5.storeDense=True\n",
    "mesh5.update_height(z5)\n",
    "mesh5.update_surface_processes()\n",
    "\n",
    "# Update surface processes will reset the stored matrices and rebuild them (if storedDense is True) \n",
    "# Subsequent calls would be faster\n",
    "\n",
    "import time\n",
    "\n",
    "walltime=time.clock()\n",
    "mesh5.cumulative_flow(mesh5.area)\n",
    "print \" - Built cumulative area \", time.clock() - walltime,\"s\"\n"
   ]
  },
  {
   "cell_type": "code",
   "execution_count": null,
   "metadata": {
    "collapsed": false
   },
   "outputs": [],
   "source": [
    "mesh5._build_downhill_matrices(weight=1.0) \n",
    "\n",
    "print mesh5.adjacency1.nnz\n",
    "print mesh5.downhillMat.nnz\n"
   ]
  },
  {
   "cell_type": "code",
   "execution_count": null,
   "metadata": {
    "collapsed": false
   },
   "outputs": [],
   "source": [
    "# This is the result \n",
    "\n",
    "import matplotlib.pyplot as plt\n",
    "from matplotlib import cm\n",
    "\n",
    "fig, (plot1, plot2, plot3) = plt.subplots(1,3)\n",
    "fig.set_size_inches(18,5)\n",
    "fig.set_dpi(300)\n",
    "\n",
    "plot1.set_xlim(-5.1, 5.1)\n",
    "plot1.set_ylim(-5.1, 5.1)\n",
    "plot2.set_xlim(-5.1, 5.1)\n",
    "plot2.set_ylim(-5.1, 5.1)\n",
    "plot3.set_xlim(-5.1, 5.1)\n",
    "plot3.set_ylim(-5.1, 5.1)\n",
    "\n",
    "sm1 = mesh5.add_node_data_to_plot(plot1, mesh5.height, cmap=cm.terrain, shading=\"gouraud\", vmin=-0.5)\n",
    "plot1.triplot(mesh5.x, mesh5.y, mesh5.tri.simplices, color=\"#AAAAAA\",linewidth=0.1)\n",
    "    \n",
    "fig.colorbar(sm1, ax=plot1)\n",
    "\n",
    "sm1 = mesh5.add_node_data_to_plot(plot2, mesh5.height, cmap=cm.terrain, shading=\"gouraud\", vmin=-0.5, alpha=0.5)\n",
    "sm2 = mesh5.add_node_data_to_plot(plot2, mesh5.upstream_area, cmap=cm.PuBuGn, shading=\"gouraud\", vmax=1.0, alpha=0.5)\n",
    "fig.colorbar(sm2, ax=plot2)\n",
    "\n",
    "sm1 = mesh5.add_node_data_to_plot(plot3, mesh5.height, cmap=cm.terrain, shading=\"gouraud\", vmin=-0.5, alpha=0.5)\n",
    "sm3 = mesh5.add_node_data_to_plot(plot3, mesh5.upstream_area * mesh5.slope, cmap=cm.PuBuGn, shading=\"gouraud\", vmax=0.1, alpha=0.5)\n",
    "fig.colorbar(sm3, ax=plot3)\n",
    " \n",
    "# plt.show() \n"
   ]
  },
  {
   "cell_type": "code",
   "execution_count": null,
   "metadata": {
    "collapsed": false
   },
   "outputs": [],
   "source": [
    "# We can map rainfall to outflow like this\n",
    "\n",
    "rainfall_pattern = mesh5.height # say !\n",
    "cumulative_rainfall = mesh5.cumulative_flow(mesh5.area * rainfall_pattern) \n",
    "stream_power = cumulative_rainfall * mesh5.slope\n",
    "\n",
    "\n",
    "fig, (plot1, plot2) = plt.subplots(1,2)\n",
    "fig.set_size_inches(12,5)\n",
    "\n",
    "plot1.set_xlim(-5.1, 5.1)\n",
    "plot1.set_ylim(-5.1, 5.1)\n",
    "plot2.set_xlim(-5.1, 5.1)\n",
    "plot2.set_ylim(-5.1, 5.1)\n",
    "\n",
    "sm1a = mesh5.add_node_data_to_plot(plot1,cumulative_rainfall, cmap=cm.PuBuGn, shading=\"gouraud\", vmax=cumulative_rainfall[bmask].max()*0.5)\n",
    "sm1b = mesh5.add_node_data_to_plot(plot1, rainfall_pattern, cmap=cm.BrBG, shading=\"gouraud\", alpha=0.1)\n",
    "if len(mesh5.low_points):\n",
    "    plot1.scatter(mesh5.x[mesh5.low_points], mesh5.y[mesh5.low_points],2, marker=\"o\", alpha=0.25)\n",
    "\n",
    "\n",
    "fig.colorbar(sm1a, ax=plot1)\n",
    "\n",
    "# Or this\n",
    "\n",
    "rainflux = np.exp(-0.2*((mesh5.x-1.25)**2 + mesh5.y**2))**2\n",
    "rainfall = mesh5.area * rainflux \n",
    "cumulative_rain = mesh5.cumulative_flow(rainfall)\n",
    "\n",
    "sm2a = mesh5.add_node_data_to_plot(plot2, stream_power / mesh5.area, cmap=cm.PuBuGn, shading=\"gouraud\", vmax=(stream_power[bmask]/mesh5.area[bmask]).max()*0.5)\n",
    "sm2b = mesh5.add_node_data_to_plot(plot2, rainfall_pattern, cmap=cm.BrBG, shading=\"gouraud\", alpha=0.1)\n",
    "fig.colorbar(sm2a, ax=plot2)\n",
    "\n",
    "fig.savefig(\"eyeballs\", dpi=600)"
   ]
  },
  {
   "cell_type": "code",
   "execution_count": null,
   "metadata": {
    "collapsed": false
   },
   "outputs": [],
   "source": []
  }
 ],
 "metadata": {
  "kernelspec": {
   "display_name": "Python 2",
   "language": "python",
   "name": "python2"
  },
  "language_info": {
   "codemirror_mode": {
    "name": "ipython",
    "version": 2
   },
   "file_extension": ".py",
   "mimetype": "text/x-python",
   "name": "python",
   "nbconvert_exporter": "python",
   "pygments_lexer": "ipython2",
   "version": "2.7.10"
  }
 },
 "nbformat": 4,
 "nbformat_minor": 0
}
