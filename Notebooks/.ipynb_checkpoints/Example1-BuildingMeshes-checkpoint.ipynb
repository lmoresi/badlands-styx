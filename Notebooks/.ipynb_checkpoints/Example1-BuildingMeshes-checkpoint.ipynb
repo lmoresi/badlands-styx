{
 "cells": [
  {
   "cell_type": "markdown",
   "metadata": {},
   "source": [
    "# Using the badlands tools\n",
    "\n",
    "This example shows you how to build a circular mesh, triangulate it and add surface process features\n",
    "\n"
   ]
  },
  {
   "cell_type": "code",
   "execution_count": 1,
   "metadata": {
    "collapsed": false
   },
   "outputs": [],
   "source": [
    "%matplotlib inline\n",
    "import numpy as np"
   ]
  },
  {
   "cell_type": "code",
   "execution_count": 2,
   "metadata": {
    "collapsed": false
   },
   "outputs": [],
   "source": [
    "import sys\n",
    "sys.path.append(\"/Users/lmoresi/+Codes\")\n",
    "import badlands"
   ]
  },
  {
   "cell_type": "code",
   "execution_count": 3,
   "metadata": {
    "collapsed": false
   },
   "outputs": [
    {
     "data": {
      "text/plain": [
       "['FlatMesh',\n",
       " 'SurfaceProcessMesh',\n",
       " 'TopoMesh',\n",
       " '_PixMesh',\n",
       " '_SurfaceProcessMeshClass',\n",
       " '_TopoMeshClass',\n",
       " '_TriMesh',\n",
       " '__builtins__',\n",
       " '__doc__',\n",
       " '__file__',\n",
       " '__name__',\n",
       " '__package__',\n",
       " '__path__',\n",
       " 'known_basemesh_classes',\n",
       " 'pixmesh',\n",
       " 'surfmesh',\n",
       " 'tools',\n",
       " 'topomesh',\n",
       " 'trimesh',\n",
       " 'virtualmesh']"
      ]
     },
     "execution_count": 3,
     "metadata": {},
     "output_type": "execute_result"
    }
   ],
   "source": [
    "dir(badlands)"
   ]
  },
  {
   "cell_type": "code",
   "execution_count": 7,
   "metadata": {
    "collapsed": false
   },
   "outputs": [
    {
     "name": "stdout",
     "output_type": "stream",
     "text": [
      "VirtualMesh __init__fn\n",
      "VirtualMesh __init__fn\n"
     ]
    }
   ],
   "source": [
    "# A quick test mesh a small collection of points and how to build an \"improved\" mesh from those points\n",
    "\n",
    "\n",
    "import matplotlib.pyplot as plt\n",
    "from matplotlib import cm\n",
    "\n",
    "x1 = np.array((0, 0, 1, 1, 0.5, 0.55, 0.25, 0.75 ))\n",
    "y1 = np.array((0, 1, 0, 1, 0.5, 0.50, 0.75, 0.25 ))\n",
    "bmask = np.array(( False, False, False, False, True, True, True, True))\n",
    "\n",
    "phi = np.array((1, 2, 3, 4, 5, 3, 3, 2))\n",
    "\n",
    "x5,y5 = badlands.tools.lloyd_mesh_improvment(x1,y1, bmask, 5)\n",
    "\n",
    "mesh1  = badlands.FlatMesh(\"TriMesh\")\n",
    "mesh1.build_mesh(x1,y1,bmask)\n",
    "\n",
    "mesh5  = badlands.FlatMesh(\"TriMesh\")\n",
    "mesh5.build_mesh(x5,y5,bmask)\n",
    "\n"
   ]
  },
  {
   "cell_type": "code",
   "execution_count": null,
   "metadata": {
    "collapsed": false
   },
   "outputs": [],
   "source": [
    "\n",
    "# This is the preferred plotting strategy since it exposes the matplotlib instances\n",
    "# that you need to use the plotting functions provided by TriMesh et al.\n",
    "\n",
    "fig, (plot1, plot2) = plt.subplots(1,2)\n",
    "fig.set_size_inches(10,5)\n",
    "fig.set_dpi(300)\n",
    "\n",
    "plot1.set_xlim(0.0,1.0)\n",
    "plot1.set_ylim(0.0,1.0)\n",
    "mesh1.add_node_data_to_plot(plot1,phi, cmap=cm.terrain, shading=\"flat\", vmin=-0.5, alpha=0.5)\n",
    "\n",
    "plot1.scatter(x1,y1,marker=\"o\")\n",
    "\n",
    "plot2.set_xlim(0.0,1.0)\n",
    "plot2.set_ylim(0.0,1.0)\n",
    "smesh5.add_node_data_to_plot(plot2,phi, cmap=cm.terrain, shading=\"flat\", vmin=-0.5, alpha=0.5)\n",
    "plot2.scatter(x5,y5,marker=\"o\")"
   ]
  },
  {
   "cell_type": "code",
   "execution_count": null,
   "metadata": {
    "collapsed": false
   },
   "outputs": [],
   "source": [
    "# Note that the help text is meaningful\n",
    "help(smesh5)"
   ]
  },
  {
   "cell_type": "code",
   "execution_count": null,
   "metadata": {
    "collapsed": false
   },
   "outputs": [],
   "source": [
    "## TEST - 2 A useful mesh for computation of surface processes. Use the elliptical mesh generator and \n",
    "## iteratively improve the points before building the \n",
    "\n",
    "x1, y1, bmask, inverse_bmask = meshtools.elliptical_mesh(-5.0, 5.0, -5.0,  5.0, 0.05, 0.05, 50000, 125 )\n",
    "z1 = np.exp(-x1**2 -y1**2)\n",
    "\n",
    "x5,y5 = meshtools.lloyd_mesh_improvment(x1,y1, bmask, 5)\n",
    "z5 = np.exp(0.2 * (-x5**2 -y5**2)) + 0.0001 * np.random.rand(len(x5))\n",
    "\n",
    "mesh1 = SurfaceProcessMesh(x1, y1, z1, z1**2, None, None, bmask, verbose=True)\n",
    "mesh5 = SurfaceProcessMesh(x5, y5, z5, z5**2, None, None, bmask, verbose=True)\n",
    "\n",
    "print \"Mesh 1 - derivative error: \", mesh1.assess_derivative_quality()\n",
    "print \"Mesh 5 - derivative error: \", mesh5.assess_derivative_quality()"
   ]
  },
  {
   "cell_type": "code",
   "execution_count": null,
   "metadata": {
    "collapsed": false
   },
   "outputs": [],
   "source": [
    "## dump the mesh to a file\n",
    "\n",
    "mesh5.dump_to_file(\"MyNewMesh.npz\")"
   ]
  },
  {
   "cell_type": "code",
   "execution_count": null,
   "metadata": {
    "collapsed": true
   },
   "outputs": [],
   "source": [
    "mesh5_1 = TreMesh(filename=\"MyNewMesh.npz\")"
   ]
  },
  {
   "cell_type": "code",
   "execution_count": null,
   "metadata": {
    "collapsed": false
   },
   "outputs": [],
   "source": [
    "# To see what is in the data file\n",
    "\n",
    "peakAtMeshFile = np.load(\"MyNewMesh.npz\")\n",
    "print \"Available arrays: \", peakAtMeshFile.keys()\n",
    "print \"Rainfall distribution array: \",peakAtMeshFile['rainfall_pattern']"
   ]
  },
  {
   "cell_type": "code",
   "execution_count": null,
   "metadata": {
    "collapsed": false
   },
   "outputs": [],
   "source": [
    "# Here is how to update the relevant parts of the mesh if the height changes\n",
    "\n",
    "mesh5.verbose=True\n",
    "mesh5.storeDense=True\n",
    "mesh5.update_height(z5)\n",
    "mesh5.update_surface_processes()\n",
    "\n",
    "# Update surface processes will reset the stored matrices and rebuild them (if storedDense is True) \n",
    "# Subsequent calls would be faster\n",
    "\n",
    "import time\n",
    "\n",
    "walltime=time.clock()\n",
    "mesh5.cumulative_flow(mesh5.area)\n",
    "print \" - Built cumulative area \", time.clock() - walltime,\"s\"\n"
   ]
  },
  {
   "cell_type": "code",
   "execution_count": null,
   "metadata": {
    "collapsed": false
   },
   "outputs": [],
   "source": [
    "mesh5._build_downhill_matrices(weight=1.0) \n",
    "\n",
    "print mesh5.adjacency1.nnz\n",
    "print mesh5.downhillMat.nnz\n"
   ]
  },
  {
   "cell_type": "code",
   "execution_count": null,
   "metadata": {
    "collapsed": false
   },
   "outputs": [],
   "source": [
    "# This is the result \n",
    "\n",
    "import matplotlib.pyplot as plt\n",
    "from matplotlib import cm\n",
    "\n",
    "fig, (plot1, plot2, plot3) = plt.subplots(1,3)\n",
    "fig.set_size_inches(18,5)\n",
    "fig.set_dpi(300)\n",
    "\n",
    "plot1.set_xlim(-5.1, 5.1)\n",
    "plot1.set_ylim(-5.1, 5.1)\n",
    "plot2.set_xlim(-5.1, 5.1)\n",
    "plot2.set_ylim(-5.1, 5.1)\n",
    "plot3.set_xlim(-5.1, 5.1)\n",
    "plot3.set_ylim(-5.1, 5.1)\n",
    "\n",
    "sm1 = mesh5.add_node_data_to_plot(plot1, mesh5.height, cmap=cm.terrain, shading=\"gouraud\", vmin=-0.5)\n",
    "plot1.triplot(mesh5.x, mesh5.y, mesh5.tri.simplices, color=\"#AAAAAA\",linewidth=0.1)\n",
    "    \n",
    "fig.colorbar(sm1, ax=plot1)\n",
    "\n",
    "sm1 = mesh5.add_node_data_to_plot(plot2, mesh5.height, cmap=cm.terrain, shading=\"gouraud\", vmin=-0.5, alpha=0.5)\n",
    "sm2 = mesh5.add_node_data_to_plot(plot2, mesh5.upstream_area, cmap=cm.PuBuGn, shading=\"gouraud\", vmax=1.0, alpha=0.5)\n",
    "fig.colorbar(sm2, ax=plot2)\n",
    "\n",
    "sm1 = mesh5.add_node_data_to_plot(plot3, mesh5.height, cmap=cm.terrain, shading=\"gouraud\", vmin=-0.5, alpha=0.5)\n",
    "sm3 = mesh5.add_node_data_to_plot(plot3, mesh5.upstream_area * mesh5.slope, cmap=cm.PuBuGn, shading=\"gouraud\", vmax=0.1, alpha=0.5)\n",
    "fig.colorbar(sm3, ax=plot3)\n",
    " \n",
    "# plt.show() \n"
   ]
  },
  {
   "cell_type": "code",
   "execution_count": null,
   "metadata": {
    "collapsed": false
   },
   "outputs": [],
   "source": [
    "# We can map rainfall to outflow like this\n",
    "\n",
    "rainfall_pattern = mesh5.height # say !\n",
    "cumulative_rainfall = mesh5.cumulative_flow(mesh5.area * rainfall_pattern) \n",
    "stream_power = cumulative_rainfall * mesh5.slope\n",
    "\n",
    "\n",
    "fig, (plot1, plot2) = plt.subplots(1,2)\n",
    "fig.set_size_inches(12,5)\n",
    "\n",
    "plot1.set_xlim(-5.1, 5.1)\n",
    "plot1.set_ylim(-5.1, 5.1)\n",
    "plot2.set_xlim(-5.1, 5.1)\n",
    "plot2.set_ylim(-5.1, 5.1)\n",
    "\n",
    "sm1a = mesh5.add_node_data_to_plot(plot1,cumulative_rainfall, cmap=cm.PuBuGn, shading=\"gouraud\", vmax=cumulative_rainfall[bmask].max()*0.5)\n",
    "sm1b = mesh5.add_node_data_to_plot(plot1, rainfall_pattern, cmap=cm.BrBG, shading=\"gouraud\", alpha=0.1)\n",
    "if len(mesh5.low_points):\n",
    "    plot1.scatter(mesh5.x[mesh5.low_points], mesh5.y[mesh5.low_points],2, marker=\"o\", alpha=0.25)\n",
    "\n",
    "\n",
    "fig.colorbar(sm1a, ax=plot1)\n",
    "\n",
    "# Or this\n",
    "\n",
    "rainflux = np.exp(-0.2*((mesh5.x-1.25)**2 + mesh5.y**2))**2\n",
    "rainfall = mesh5.area * rainflux \n",
    "cumulative_rain = mesh5.cumulative_flow(rainfall)\n",
    "\n",
    "sm2a = mesh5.add_node_data_to_plot(plot2, stream_power / mesh5.area, cmap=cm.PuBuGn, shading=\"gouraud\", vmax=(stream_power[bmask]/mesh5.area[bmask]).max()*0.5)\n",
    "sm2b = mesh5.add_node_data_to_plot(plot2, rainfall_pattern, cmap=cm.BrBG, shading=\"gouraud\", alpha=0.1)\n",
    "fig.colorbar(sm2a, ax=plot2)\n",
    "\n",
    "fig.savefig(\"eyeballs\", dpi=600)"
   ]
  },
  {
   "cell_type": "code",
   "execution_count": null,
   "metadata": {
    "collapsed": false
   },
   "outputs": [],
   "source": []
  }
 ],
 "metadata": {
  "kernelspec": {
   "display_name": "Python 2",
   "language": "python",
   "name": "python2"
  },
  "language_info": {
   "codemirror_mode": {
    "name": "ipython",
    "version": 2
   },
   "file_extension": ".py",
   "mimetype": "text/x-python",
   "name": "python",
   "nbconvert_exporter": "python",
   "pygments_lexer": "ipython2",
   "version": "2.7.10"
  }
 },
 "nbformat": 4,
 "nbformat_minor": 0
}
