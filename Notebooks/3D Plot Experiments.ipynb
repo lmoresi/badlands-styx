{
 "cells": [
  {
   "cell_type": "code",
   "execution_count": 1,
   "metadata": {
    "collapsed": false
   },
   "outputs": [],
   "source": [
    "%gui wx"
   ]
  },
  {
   "cell_type": "code",
   "execution_count": 2,
   "metadata": {
    "collapsed": false
   },
   "outputs": [
    {
     "name": "stderr",
     "output_type": "stream",
     "text": [
      "WARNING:traits.has_traits:DEPRECATED: traits.has_traits.wrapped_class, 'the 'implements' class advisor has been deprecated. Use the 'provides' class decorator.\n"
     ]
    }
   ],
   "source": [
    "%matplotlib inline\n",
    "\n",
    "from badlands import meshtools \n",
    "from badlands import TreMesh\n",
    "from badlands import HeightMesh\n",
    "from badlands import SurfaceProcessMesh\n",
    "\n",
    "import numpy as np\n",
    "\n",
    "import glob\n",
    "import time\n",
    "\n",
    "from mayavi import mlab\n",
    "\n",
    "import scipy\n"
   ]
  },
  {
   "cell_type": "code",
   "execution_count": 3,
   "metadata": {
    "collapsed": false
   },
   "outputs": [
    {
     "name": "stdout",
     "output_type": "stream",
     "text": [
      "-rw-r--r--@ 1 lmoresi  staff  6378075  7 Apr 13:43 Sombrero1.0003.npz\r\n",
      "-rw-r--r--@ 1 lmoresi  staff  6378075  7 Apr 13:45 Sombrero1.0004.npz\r\n",
      "-rw-r--r--@ 1 lmoresi  staff  6378075  7 Apr 13:46 Sombrero1.0005.npz\r\n",
      "-rw-r--r--@ 1 lmoresi  staff  6378075  7 Apr 13:48 Sombrero1.0006.npz\r\n",
      "-rw-r--r--@ 1 lmoresi  staff  6378075  7 Apr 13:50 Sombrero1.0007.npz\r\n"
     ]
    }
   ],
   "source": [
    "ls -trl Sombrero1.*npz |tail -5\n"
   ]
  },
  {
   "cell_type": "code",
   "execution_count": 4,
   "metadata": {
    "collapsed": false
   },
   "outputs": [],
   "source": [
    "files = glob.glob(\"Sombrero1.0007.npz\")\n",
    "outfile = \"test\""
   ]
  },
  {
   "cell_type": "code",
   "execution_count": 5,
   "metadata": {
    "collapsed": false
   },
   "outputs": [],
   "source": [
    "fig = mlab.figure(size=(1200, 800), bgcolor=(1.0,1.0,1.0) )"
   ]
  },
  {
   "cell_type": "code",
   "execution_count": 6,
   "metadata": {
    "collapsed": false
   },
   "outputs": [
    {
     "name": "stdout",
     "output_type": "stream",
     "text": [
      "Display data -  Sombrero1.0007.npz\n",
      "['triang', 'rainfall_pattern', 'delta', 'height', 'uparea', 'bmask', 'y', 'x', 'erosion', 'sediment']\n"
     ]
    },
    {
     "name": "stderr",
     "output_type": "stream",
     "text": [
      "/usr/local/lib/python2.7/site-packages/traits/has_traits.py:1536: FutureWarning: comparison to `None` will result in an elementwise object comparison in the future.\n",
      "  setattr( self, name, value )\n"
     ]
    }
   ],
   "source": [
    "for num, filename in enumerate(files):\n",
    "    \n",
    "    mlab.clf(fig)\n",
    "\n",
    "    what = np.load(filename)\n",
    "    print \"Display data - \", filename\n",
    "    print what.keys()\n",
    "\n",
    "    x = what['x']\n",
    "    y = what['y']\n",
    "    h = what['height'] \n",
    "    bmask = what['bmask']\n",
    "    triang = what['triang']\n",
    "    delta =  what['delta']\n",
    "    uparea = what['uparea']\n",
    "#    erosion = what['erosion']\n",
    "\n",
    "    deltaRNG=np.abs(delta[bmask].min()) * 1.5\n",
    "    upareaRNG=uparea[bmask].max() / 5.0\n",
    "#    eroRNG=np.abs(erosion[bmask].min()) / 50.0\n",
    "\n",
    "    rivers = mlab.triangular_mesh(x, y, h, triang, scalars=uparea, colormap=\"Blues\", vmax=upareaRNG)\n",
    "    land   = mlab.triangular_mesh(x, y, h, triang, scalars=delta,  colormap=\"RdGy\",  vmin=-deltaRNG, vmax=deltaRNG, opacity=0.7)\n",
    "    \n",
    "    oblique = (270, 60, 15, [ 0.0,  0.0,  -0.5] )\n",
    "    above   = (  0,  0, 20, [ 0.0,  0.0,  -0.5] )   \n",
    "    side    = (270, 90, 13, [ 0.0,  0.0,   0.0] )\n",
    "    \n",
    "#     view=side\n",
    "#     mlab.view(*view)\n",
    "    \n",
    "#     screen_image = mlab.screenshot()\n",
    "#     scipy.misc.imsave(outfile+\"-side.\"+str(num)+\".png\", screen_image)\n",
    "    \n",
    "    view=oblique\n",
    "    mlab.view(*view)\n",
    "    \n",
    "    screen_image = mlab.screenshot()\n",
    "    scipy.misc.imsave(outfile+\"-oblique.\"+str(num)+\".png\", screen_image)\n",
    "    \n",
    "    \n",
    "#     for i in range(0, 720, 1):\n",
    "#         view = (i, 60, 15, [ 0.0,  0.0,  -0.5] )\n",
    "#         time.sleep(0.05)\n",
    "#         mlab.view(*view)\n",
    "\n",
    "\n",
    "      \n",
    "#     view=above\n",
    "#     mlab.view(*view)\n",
    "    \n",
    "#     screen_image = mlab.screenshot()\n",
    "#     scipy.misc.imsave(outfile+\"-above.\"+str(num)+\".png\", screen_image)\n",
    "      \n",
    "    \n",
    "    \n",
    "    # More views here ?\n",
    "    \n",
    "        "
   ]
  },
  {
   "cell_type": "code",
   "execution_count": 7,
   "metadata": {
    "collapsed": false
   },
   "outputs": [],
   "source": [
    "# # This is an FYI - how to change the view / data while the display is live.\n",
    "\n",
    "# changer_l = land.mlab_source\n",
    "# changer_r = rivers.mlab_source\n",
    "\n",
    "# changer_l.set(scalars=delta)\n",
    "# changer_r.set(scalars=uparea)\n",
    "\n"
   ]
  },
  {
   "cell_type": "code",
   "execution_count": 8,
   "metadata": {
    "collapsed": false
   },
   "outputs": [],
   "source": [
    "#rm TEST0.*npz"
   ]
  },
  {
   "cell_type": "raw",
   "metadata": {},
   "source": [
    "import matplotlib.pyplot as plt\n",
    "from matplotlib import cm\n",
    "\n",
    "for num, filename in enumerate(files):\n",
    "\n",
    "\n",
    "    what = np.load(filename)\n",
    "    print \"Display data - \", filename\n",
    "\n",
    "    x = what['x']\n",
    "    y = what['y']\n",
    "    h = what['h'] * 0.25\n",
    "    triang = what['triang']\n",
    "    delta =  what['delta']\n",
    "    uparea = what['uparea'] \n",
    "\n",
    "    deltaRNG=np.abs(delta.min()) * 5.0\n",
    "    eroRNG=np.abs(erosion).min()) * 5.0\n",
    "    upareaRNG=uparea.max()/5.0\n",
    " \n",
    " \n",
    "    fig, (plot1, plot2) = plt.subplots(1,2)\n",
    "    fig.set_size_inches(11,5)\n",
    "\n",
    "    plot1.set_xlim(-5.1, 5.1)\n",
    "    plot1.set_ylim(-5.1, 5.1)\n",
    "    plot2.set_xlim(-5.1, 5.1)\n",
    "    plot2.set_ylim(-5.1, 5.1)\n",
    "\n",
    "    sm1 = plot1.tripcolor(x, y, triang, h)\n",
    "    fig.colorbar(sm1, ax=plot1)\n",
    "    \n",
    "    maxDEL = np.abs(delta).max() \n",
    "    \n",
    "    sm2 = plot2.tripcolor(x, y, triang, delta, cmap=\"RdBu\", vmin=-maxDEL, vmax=maxDEL )\n",
    "    # sm2 = plot2.tricontour(x, y, triang, h, cmap=\"RdBu\", vmin=-maxDEL, vmax=maxDEL )\n",
    "\n",
    "    fig.colorbar(sm2, ax=plot2)\n",
    "\n",
    "    output_filename = outfile+\"-2D.\"+str(num)+\".png\"\n",
    "    fig.savefig(output_filename, dpi=150)\n",
    "    print output_filename\n",
    "    \n",
    "    #plt.close()\n",
    "\n"
   ]
  },
  {
   "cell_type": "raw",
   "metadata": {},
   "source": [
    "%%bash -s \"$output_filename\"\n",
    "\n",
    "open $1\n",
    "\n"
   ]
  },
  {
   "cell_type": "code",
   "execution_count": null,
   "metadata": {
    "collapsed": false
   },
   "outputs": [],
   "source": []
  },
  {
   "cell_type": "code",
   "execution_count": null,
   "metadata": {
    "collapsed": true
   },
   "outputs": [],
   "source": []
  }
 ],
 "metadata": {
  "kernelspec": {
   "display_name": "Python 2",
   "language": "python",
   "name": "python2"
  },
  "language_info": {
   "codemirror_mode": {
    "name": "ipython",
    "version": 2
   },
   "file_extension": ".py",
   "mimetype": "text/x-python",
   "name": "python",
   "nbconvert_exporter": "python",
   "pygments_lexer": "ipython2",
   "version": "2.7.9"
  }
 },
 "nbformat": 4,
 "nbformat_minor": 0
}
