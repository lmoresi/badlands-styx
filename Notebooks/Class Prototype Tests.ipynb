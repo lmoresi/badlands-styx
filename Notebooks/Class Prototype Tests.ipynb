{
 "cells": [
  {
   "cell_type": "code",
   "execution_count": 94,
   "metadata": {
    "collapsed": false
   },
   "outputs": [],
   "source": [
    "## Notes - I think the Abstract class should define methods to build / populate the mesh\n",
    "## and we should have ... \n",
    "\n",
    "class AbstractMesh:\n",
    "    \"\"\" Abstract class for triangulated meshes and regular pixel meshes (2D)\n",
    "    \n",
    "    Outlines the methods required for the general mesh types. \n",
    "    Each type of mesh must implement these or provide an elegant fallback \n",
    "    \"\"\"\n",
    "        \n",
    "    def __init__(self, **kwargs):\n",
    "        print \"Abstract mesh is a base mesh class and cannot be instantiated in its own right\"\n",
    "        raise NotImplementedError()\n",
    "        \n",
    "    def build_mesh(self):     \n",
    "        raise NotImplementedError()\n",
    "        \n",
    "    \n",
    "\n",
    "        \n",
    "class PixMesh(AbstractMesh):\n",
    "    \n",
    "    def __init__(self):\n",
    "        print \"Pixel Mesh\"\n",
    "        print \"pixeldict: \", pixeldict\n",
    "        pass\n",
    "\n",
    "    def build_mesh(self, points):\n",
    "        print \"Build Pixel Mesh\"\n",
    "        pass\n",
    "    \n",
    "class TriMesh(AbstractMesh):\n",
    "    \n",
    "    def __init__(self, tridict):\n",
    "        print \"Triangle Mesh\"\n",
    "        print \"tridict: \", tridict\n",
    "        pass\n",
    "\n",
    "    def build_from_points(self):\n",
    "        print \"Build Tri Mesh\"\n",
    "        pass\n",
    "\n",
    "class HMesh:\n",
    "    \n",
    "    def add_height_to_mesh(self):\n",
    "        pass\n",
    "\n",
    "class SPMesh(HMesh):\n",
    "    \n",
    "    def add_rainfall_to_mesh(self):\n",
    "        pass\n",
    "    \n",
    "    \n",
    "# This is a suitable \"factory\" function \n",
    "\n",
    "def SurfaceMesh(ClassType, **kwargs):\n",
    "    \n",
    "    if ClassType==\"TriMesh\":\n",
    "        class A(TriMesh, SPMesh):\n",
    "            pass\n",
    "        \n",
    "        return A(**kwargs)\n",
    "        \n",
    "    elif ClassType==\"PixMesh\":\n",
    "        class B(PixMesh, SPMesh):\n",
    "            pass\n",
    "        \n",
    "        return B(**kwargs)\n",
    "\n",
    "    else:\n",
    "        print \"!! Mesh type {:s} unknown\".format(ClassType)\n",
    "    \n",
    "    return\n",
    "\n",
    "\n",
    "\n",
    "        "
   ]
  },
  {
   "cell_type": "code",
   "execution_count": 95,
   "metadata": {
    "collapsed": false
   },
   "outputs": [
    {
     "name": "stdout",
     "output_type": "stream",
     "text": [
      "Pixel Mesh\n",
      "pixeldict:  None\n",
      "Triangle Mesh\n",
      "tridict:  None\n"
     ]
    },
    {
     "ename": "TypeError",
     "evalue": "__init__() takes exactly 2 arguments (1 given)",
     "output_type": "error",
     "traceback": [
      "\u001b[0;31m---------------------------------------------------------------------------\u001b[0m",
      "\u001b[0;31mTypeError\u001b[0m                                 Traceback (most recent call last)",
      "\u001b[0;32m<ipython-input-95-11547e8f0564>\u001b[0m in \u001b[0;36m<module>\u001b[0;34m()\u001b[0m\n\u001b[1;32m      1\u001b[0m \u001b[0mA\u001b[0m \u001b[0;34m=\u001b[0m \u001b[0mPixMesh\u001b[0m\u001b[0;34m(\u001b[0m\u001b[0mNone\u001b[0m\u001b[0;34m)\u001b[0m\u001b[0;34m\u001b[0m\u001b[0m\n\u001b[1;32m      2\u001b[0m \u001b[0mB\u001b[0m \u001b[0;34m=\u001b[0m \u001b[0mTriMesh\u001b[0m\u001b[0;34m(\u001b[0m\u001b[0mNone\u001b[0m\u001b[0;34m)\u001b[0m\u001b[0;34m\u001b[0m\u001b[0m\n\u001b[0;32m----> 3\u001b[0;31m \u001b[0mC\u001b[0m \u001b[0;34m=\u001b[0m \u001b[0mSurfaceMesh\u001b[0m\u001b[0;34m(\u001b[0m\u001b[0;34m\"PixMesh\"\u001b[0m\u001b[0;34m)\u001b[0m\u001b[0;34m\u001b[0m\u001b[0m\n\u001b[0m",
      "\u001b[0;32m<ipython-input-94-9cf6cda736bd>\u001b[0m in \u001b[0;36mSurfaceMesh\u001b[0;34m(ClassType, **kwargs)\u001b[0m\n\u001b[1;32m     66\u001b[0m             \u001b[0;32mpass\u001b[0m\u001b[0;34m\u001b[0m\u001b[0m\n\u001b[1;32m     67\u001b[0m \u001b[0;34m\u001b[0m\u001b[0m\n\u001b[0;32m---> 68\u001b[0;31m         \u001b[0;32mreturn\u001b[0m \u001b[0mB\u001b[0m\u001b[0;34m(\u001b[0m\u001b[0;34m**\u001b[0m\u001b[0mkwargs\u001b[0m\u001b[0;34m)\u001b[0m\u001b[0;34m\u001b[0m\u001b[0m\n\u001b[0m\u001b[1;32m     69\u001b[0m \u001b[0;34m\u001b[0m\u001b[0m\n\u001b[1;32m     70\u001b[0m     \u001b[0;32melse\u001b[0m\u001b[0;34m:\u001b[0m\u001b[0;34m\u001b[0m\u001b[0m\n",
      "\u001b[0;31mTypeError\u001b[0m: __init__() takes exactly 2 arguments (1 given)"
     ]
    }
   ],
   "source": [
    "A = PixMesh(None)\n",
    "B = TriMesh(None)\n",
    "C = SurfaceMesh(\"PixMesh\")"
   ]
  },
  {
   "cell_type": "code",
   "execution_count": 70,
   "metadata": {
    "collapsed": false
   },
   "outputs": [
    {
     "name": "stdout",
     "output_type": "stream",
     "text": [
      "Build Pixel Mesh\n",
      "Build Tri Mesh\n",
      "Build Pixel Mesh\n"
     ]
    }
   ],
   "source": [
    "A.build_from_points(1.0)\n",
    "B.build_from_points(2.0)\n",
    "C.build_from_points(1.0)"
   ]
  },
  {
   "cell_type": "code",
   "execution_count": 92,
   "metadata": {
    "collapsed": false
   },
   "outputs": [
    {
     "name": "stdout",
     "output_type": "stream",
     "text": [
      "Pixel Mesh\n",
      "Pixel Mesh\n",
      "pixeldict:  1.0\n"
     ]
    }
   ],
   "source": [
    "D = SPMesh1(1.0)\n",
    "E = SurfaceMesh(\"PixMesh\", pixeldict=1.0)"
   ]
  },
  {
   "cell_type": "code",
   "execution_count": 93,
   "metadata": {
    "collapsed": false
   },
   "outputs": [],
   "source": [
    "E.add_rainfall_to_mesh()"
   ]
  },
  {
   "cell_type": "code",
   "execution_count": null,
   "metadata": {
    "collapsed": true
   },
   "outputs": [],
   "source": []
  }
 ],
 "metadata": {
  "kernelspec": {
   "display_name": "Python 2",
   "language": "python",
   "name": "python2"
  },
  "language_info": {
   "codemirror_mode": {
    "name": "ipython",
    "version": 2
   },
   "file_extension": ".py",
   "mimetype": "text/x-python",
   "name": "python",
   "nbconvert_exporter": "python",
   "pygments_lexer": "ipython2",
   "version": "2.7.10"
  }
 },
 "nbformat": 4,
 "nbformat_minor": 0
}
