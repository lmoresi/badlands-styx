{
 "cells": [
  {
   "cell_type": "code",
   "execution_count": 2,
   "metadata": {
    "collapsed": false
   },
   "outputs": [],
   "source": [
    "## Notes - I think the Abstract class should define methods to build / populate the mesh\n",
    "## and we should have ... \n",
    "\n",
    "class AbstractMesh:\n",
    "    \"\"\" Abstract class for triangulated meshes and regular pixel meshes (2D)\n",
    "    \n",
    "    Outlines the methods required for the general mesh types. \n",
    "    Each type of mesh must implement these or provide an elegant fallback \n",
    "    \"\"\"\n",
    "        \n",
    "    def __init__(self, **kwargs):\n",
    "        print \"Abstract mesh is a base mesh class and cannot be instantiated in its own right\"\n",
    "        raise NotImplementedError()\n",
    "        \n",
    "    def build_mesh(self):     \n",
    "        raise NotImplementedError()\n",
    "        \n",
    "    \n",
    "\n",
    "        \n",
    "class PixMesh(AbstractMesh):\n",
    "    \n",
    "    def __init__(self):\n",
    "        print \"Pixel Mesh\"\n",
    "        pass\n",
    "\n",
    "    def build_mesh(self):\n",
    "        print \"Build Pixel Mesh\"\n",
    "        pass\n",
    "    \n",
    "class TriMesh(AbstractMesh):\n",
    "    \n",
    "    def __init__(self):\n",
    "        print \"Triangle Mesh\"\n",
    "        pass\n",
    "\n",
    "    def build_mesh(self):\n",
    "        print \"Build Tri Mesh\"\n",
    "        pass\n",
    "\n",
    "class HMesh:\n",
    "    \n",
    "    def add_height_to_mesh(self):\n",
    "        pass\n",
    "\n",
    "class SPMesh(HMesh):\n",
    "    \n",
    "    def add_rainfall_to_mesh(self):\n",
    "        pass\n",
    "    \n",
    "    \n",
    "# This is a suitable \"factory\" function \n",
    "\n",
    "def SurfaceMesh(ClassType, **kwargs):\n",
    "    \n",
    "    if ClassType==\"TriMesh\":\n",
    "        class A(TriMesh, SPMesh):\n",
    "            pass\n",
    "        \n",
    "        return A(**kwargs)\n",
    "        \n",
    "    elif ClassType==\"PixMesh\":\n",
    "        class B(PixMesh, SPMesh):\n",
    "            pass\n",
    "        \n",
    "        return B(**kwargs)\n",
    "\n",
    "    else:\n",
    "        print \"!! Mesh type {:s} unknown\".format(ClassType)\n",
    "    \n",
    "    return\n",
    "\n",
    "\n",
    "\n",
    "        "
   ]
  },
  {
   "cell_type": "code",
   "execution_count": 3,
   "metadata": {
    "collapsed": false
   },
   "outputs": [
    {
     "name": "stdout",
     "output_type": "stream",
     "text": [
      "Pixel Mesh\n",
      "Triangle Mesh\n",
      "Pixel Mesh\n"
     ]
    }
   ],
   "source": [
    "A = PixMesh()\n",
    "B = TriMesh()\n",
    "C = SurfaceMesh(\"PixMesh\")"
   ]
  },
  {
   "cell_type": "code",
   "execution_count": 6,
   "metadata": {
    "collapsed": false
   },
   "outputs": [],
   "source": [
    "import copy\n",
    "\n",
    "D = copy.copy(C)\n",
    "\n"
   ]
  },
  {
   "cell_type": "code",
   "execution_count": 8,
   "metadata": {
    "collapsed": false
   },
   "outputs": [
    {
     "name": "stdout",
     "output_type": "stream",
     "text": [
      "<__main__.B instance at 0x104bd8998> <__main__.B instance at 0x104b71368>\n"
     ]
    }
   ],
   "source": [
    "print C, D"
   ]
  },
  {
   "cell_type": "code",
   "execution_count": null,
   "metadata": {
    "collapsed": true
   },
   "outputs": [],
   "source": [
    "D."
   ]
  }
 ],
 "metadata": {
  "kernelspec": {
   "display_name": "Python 2",
   "language": "python",
   "name": "python2"
  },
  "language_info": {
   "codemirror_mode": {
    "name": "ipython",
    "version": 2
   },
   "file_extension": ".py",
   "mimetype": "text/x-python",
   "name": "python",
   "nbconvert_exporter": "python",
   "pygments_lexer": "ipython2",
   "version": "2.7.10"
  }
 },
 "nbformat": 4,
 "nbformat_minor": 0
}
