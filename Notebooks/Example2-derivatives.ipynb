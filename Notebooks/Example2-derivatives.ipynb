{
 "cells": [
  {
   "cell_type": "code",
   "execution_count": null,
   "metadata": {
    "collapsed": false
   },
   "outputs": [],
   "source": [
    "%matplotlib inline\n",
    "\n",
    "from badlands import meshtools \n",
    "from badlands import TreMesh\n",
    "\n",
    "import numpy as np\n"
   ]
  },
  {
   "cell_type": "code",
   "execution_count": null,
   "metadata": {
    "collapsed": false
   },
   "outputs": [],
   "source": [
    "help (meshtools.square_mesh)"
   ]
  },
  {
   "cell_type": "code",
   "execution_count": null,
   "metadata": {
    "collapsed": false
   },
   "outputs": [],
   "source": [
    "x1, y1, bmask, inverse_bmask = meshtools.square_mesh(-5.0, 5.0, -5.0,  5.0, 0.05, 0.05, 50000, 200 )\n",
    "z1 = np.exp(-x1**2 -y1**2)\n",
    "\n",
    "x5,y5 = meshtools.lloyd_mesh_improvment(x1,y1, bmask, 5)\n",
    "z5 = np.exp(0.2 * (-x5**2 -y5**2)) + 0.0001 * np.random.rand(len(x5))\n",
    "\n",
    "mesh1 = TreMesh(x1, y1, bmask, verbose=True)\n",
    "mesh5 = TreMesh(x5, y5, bmask, verbose=True)"
   ]
  },
  {
   "cell_type": "code",
   "execution_count": null,
   "metadata": {
    "collapsed": false
   },
   "outputs": [],
   "source": [
    "print mesh1.assess_derivative_quality()\n",
    "print mesh5.assess_derivative_quality()"
   ]
  },
  {
   "cell_type": "code",
   "execution_count": null,
   "metadata": {
    "collapsed": false
   },
   "outputs": [],
   "source": [
    "\n",
    "gradXz5, gradYz5 = mesh5.delaunay_grad(z5)\n",
    "\n",
    "# This is how to access the individual derivatives !\n",
    "\n",
    "print mesh5._matrix_delaunay_dx(z5) - gradXz5  # Should be the same !!\n",
    "print mesh5._matrix_delaunay_dy(z5) - gradYz5\n",
    "\n",
    "gradXz5[inverse_bmask] = 0.0\n",
    "gradYz5[inverse_bmask] = 0.0\n",
    "\n",
    "divgradz5 = mesh5.delaunay_div(gradXz5, gradYz5)\n"
   ]
  },
  {
   "cell_type": "code",
   "execution_count": null,
   "metadata": {
    "collapsed": false
   },
   "outputs": [],
   "source": [
    "import matplotlib.pyplot as plt\n",
    "from matplotlib import cm\n",
    "\n",
    "\n",
    "fig, (plot1, plot2, plot3) = plt.subplots(1,3)\n",
    "fig.set_size_inches(18,5)\n",
    "fig.set_dpi(300)\n",
    "\n",
    "plot1.set_xlim(-5.1, 5.1)\n",
    "plot1.set_ylim(-5.1, 5.1)\n",
    "plot2.set_xlim(-5.1, 5.1)\n",
    "plot2.set_ylim(-5.1, 5.1)\n",
    "plot3.set_xlim(-5.1, 5.1)\n",
    "plot3.set_ylim(-5.1, 5.1)\n",
    "\n",
    "sm1 = mesh5.add_node_data_to_plot(plot1, z5, cmap=cm.terrain, shading=\"gouraud\")\n",
    "fig.colorbar(sm1, ax=plot1)\n",
    "\n",
    "sm2 = mesh5.add_node_data_to_plot(plot2, gradXz5, cmap=cm.terrain, shading=\"gouraud\", alpha=0.25)\n",
    "fig.colorbar(sm2, ax=plot2)\n",
    "\n",
    "sm3 = mesh5.add_node_data_to_plot(plot3, divgradz5, cmap=cm.terrain, shading=\"gouraud\", alpha=0.25, linewidth=1)\n",
    "fig.colorbar(sm3, ax=plot3)\n",
    " \n",
    "# plt.show() \n",
    "fig.savefig(\"TestGradient.png\", dpi=600)\n"
   ]
  },
  {
   "cell_type": "code",
   "execution_count": null,
   "metadata": {
    "collapsed": false
   },
   "outputs": [],
   "source": [
    "%%sh\n",
    "\n",
    "open TestGradient.png"
   ]
  },
  {
   "cell_type": "code",
   "execution_count": null,
   "metadata": {
    "collapsed": false
   },
   "outputs": [],
   "source": [
    "def delaunay_diffusion_rate(self, kappa, data, fluxBC):\n",
    "    \"\"\"\n",
    "    Compute diffusive rate of change for field 'data' on the delaunay mesh\n",
    "    \n",
    "    \"\"\"\n",
    "\n",
    "    inverse_bmask = np.invert(self.bmask)\n",
    "    \n",
    "    diff_timestep   =  (self.area / kappa).min()\n",
    "\n",
    "    ## Should wrap this as grad ( A * grad )\n",
    "\n",
    "    gradZx, gradZy = self.delaunay_grad(data)   \n",
    "    \n",
    "    flux_x = kappa * gradZx\n",
    "    flux_y = kappa * gradZy    \n",
    "    \n",
    "    if fluxBC:\n",
    "        flux_x[inverse_bmask] = 0.0\n",
    "        flux_y[inverse_bmask] = 0.0  # outward normal flux, actually \n",
    "        \n",
    "    diffDz  = self.delaunay_div(flux_x, flux_y)\n",
    "\n",
    "    if not fluxBC:\n",
    "        diffDz[inverse_bmask] = 0.0\n",
    "\n",
    "    return diffDz, diff_timestep\n"
   ]
  },
  {
   "cell_type": "code",
   "execution_count": null,
   "metadata": {
    "collapsed": false
   },
   "outputs": [],
   "source": [
    "# Test the time evolution with a mid-point method\n",
    "\n",
    "import time as systime\n",
    "\n",
    "\n",
    "\n",
    "# Reset the height\n",
    "\n",
    "reset = False\n",
    "\n",
    "if reset:\n",
    "    z5 = np.exp(-0.025*(x5**4 + y5**4)**1) + 0.0001 * np.random.rand(len(x5))\n",
    "\n",
    "z0 = z5.copy()\n",
    "\n",
    "time = 0.0\n",
    "viz_time= 0.0\n",
    "vizzes = 0\n",
    "\n",
    "kappa = np.ones_like(z5) \n",
    "\n",
    "for step in range(0,500):\n",
    "    walltime = systime.clock()\n",
    "    \n",
    "    delta = z5-z0\n",
    "      \n",
    "    # Diffusion\n",
    "    \n",
    "    # kappa[ x5 > 0.0 ] *= 50\n",
    "    kappa = z5**4  \n",
    "        \n",
    "    diffDz, diff_timestep =  delaunay_diffusion_rate(mesh5, kappa, z5, True)\n",
    "\n",
    "    # Height predictor step (at half time)   \n",
    "    z5 += 0.5 * diff_timestep *  diffDz\n",
    "\n",
    "    # Recalculate based on mid-point values\n",
    "        \n",
    "    diffDz, diff_timestep =  delaunay_diffusion_rate(mesh5, kappa, z5, True)\n",
    "     \n",
    "    # Now take the full timestep\n",
    "\n",
    "    z5 += diff_timestep *  diffDz\n",
    "    \n",
    "    time = time + diff_timestep\n",
    "    viz_time = viz_time + diff_timestep\n",
    "\n",
    "  \n",
    "    if step%100 == 0:\n",
    "        print \"{:04d} - \".format(step), \\\n",
    "          \" dt - {:.5f} \".format(diff_timestep), \\\n",
    "          \" time - {:.4f}\".format(time), \\\n",
    "          \" Step walltime - {:.3f}\".format(systime.clock()-walltime)\n",
    "              \n",
    "    # Store data\n",
    "    \n",
    "    if( viz_time > 0.1 or step==0):\n",
    "\n",
    "        viz_time = 0.0\n",
    "        vizzes = vizzes + 1\n",
    "\n",
    "        delta = z5-z0\n",
    "        np.savez(\"TEST1.{:04d}\".format(vizzes), x=mesh5.x, y=mesh5.y, h=z5, \n",
    "                  triang=mesh5.tri.simplices, delta=delta )\n",
    "\n",
    " "
   ]
  },
  {
   "cell_type": "code",
   "execution_count": null,
   "metadata": {
    "collapsed": false
   },
   "outputs": [],
   "source": [
    "fig, (plot1, plot2, plot3) = plt.subplots(1,3)\n",
    "fig.set_size_inches(18,5)\n",
    "fig.set_dpi(300)\n",
    "\n",
    "plot1.set_xlim(-5.1, 5.1)\n",
    "plot1.set_ylim(-5.1, 5.1)\n",
    "plot2.set_xlim(-5.1, 5.1)\n",
    "plot2.set_ylim(-5.1, 5.1)\n",
    "plot3.set_xlim(-5.1, 5.1)\n",
    "plot3.set_ylim(-5.1, 5.1)\n",
    "\n",
    "sm1 = mesh5.add_node_data_to_plot(plot1, z5, cmap=cm.terrain, shading=\"gouraud\")\n",
    "fig.colorbar(sm1, ax=plot1)\n",
    "\n",
    "sm2 = mesh5.add_node_data_to_plot(plot2, z5-z0, cmap=cm.terrain, shading=\"gouraud\", alpha=0.25)\n",
    "fig.colorbar(sm2, ax=plot2)\n",
    "\n",
    "sm3 = mesh5.add_node_data_to_plot(plot3, diffDz, cmap=cm.terrain, shading=\"gouraud\", alpha=0.25, linewidth=1)\n",
    "fig.colorbar(sm3, ax=plot3)\n",
    " \n",
    "# plt.show() \n",
    "fig.savefig(\"TestGradient.png\", dpi=300)"
   ]
  }
 ],
 "metadata": {
  "kernelspec": {
   "display_name": "Python 2",
   "language": "python",
   "name": "python2"
  },
  "language_info": {
   "codemirror_mode": {
    "name": "ipython",
    "version": 2
   },
   "file_extension": ".py",
   "mimetype": "text/x-python",
   "name": "python",
   "nbconvert_exporter": "python",
   "pygments_lexer": "ipython2",
   "version": "2.7.10"
  }
 },
 "nbformat": 4,
 "nbformat_minor": 0
}
